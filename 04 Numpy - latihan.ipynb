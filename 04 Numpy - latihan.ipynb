{
 "cells": [
  {
   "cell_type": "code",
   "execution_count": 2,
   "metadata": {},
   "outputs": [],
   "source": [
    "import numpy as py"
   ]
  },
  {
   "cell_type": "code",
   "execution_count": 4,
   "metadata": {},
   "outputs": [],
   "source": [
    "# Numpy Array\n",
    "# kayak matriks ye\n"
   ]
  },
  {
   "cell_type": "code",
   "execution_count": 44,
   "metadata": {},
   "outputs": [
    {
     "name": "stdout",
     "output_type": "stream",
     "text": [
      "[87, 90, 76, 100]\n",
      "<class 'list'>\n",
      "[ 87  90  76 100]\n",
      "<class 'numpy.ndarray'>\n"
     ]
    }
   ],
   "source": [
    "# Create Numpy Array\n",
    "\n",
    "# 1. Bikin dari list\n",
    "# 1 Dimensi\n",
    "# list\n",
    "nilai = [87, 90, 76, 100]\n",
    "\n",
    "# subtitusi ke dalam fungsi py.array()\n",
    "arr = py.array(nilai)\n",
    "\n",
    "# print list\n",
    "print(nilai)\n",
    "print(type(nilai))\n",
    "\n",
    "# print array\n",
    "print(arr)\n",
    "print(type(arr))"
   ]
  },
  {
   "cell_type": "code",
   "execution_count": 47,
   "metadata": {},
   "outputs": [
    {
     "name": "stdout",
     "output_type": "stream",
     "text": [
      "[[87, 90, 76, 100], [23, 45, 15, 99]]\n",
      "<class 'list'>\n",
      "\n",
      "[[ 87  90  76 100]\n",
      " [ 23  45  15  99]]\n",
      "<class 'numpy.ndarray'>\n",
      "\n"
     ]
    }
   ],
   "source": [
    "# 2 Dimensi\n",
    "# list\n",
    "nilai_2 = [[87, 90, 76, 100],[23,45,15,99]]\n",
    "\n",
    "# subtitusi ke dalam fungsi py.array()\n",
    "arr_2 = py.array(nilai_2)\n",
    "\n",
    "# print list\n",
    "print(nilai_2)\n",
    "print(type(nilai_2))\n",
    "print()\n",
    "\n",
    "# print array\n",
    "print(arr_2)\n",
    "print(type(arr_2))\n",
    "print()"
   ]
  },
  {
   "cell_type": "code",
   "execution_count": 16,
   "metadata": {},
   "outputs": [
    {
     "name": "stdout",
     "output_type": "stream",
     "text": [
      "[0. 0. 0. 0. 0. 0. 0. 0. 0. 0.]\n",
      "<class 'numpy.ndarray'>\n",
      "\n",
      "[1. 1. 1. 1. 1. 1. 1. 1. 1. 1. 1. 1. 1.]\n",
      "<class 'numpy.ndarray'>\n",
      "\n",
      "[0.00000000e+000 0.00000000e+000 0.00000000e+000 0.00000000e+000\n",
      " 0.00000000e+000 7.64813620e-321 1.24610723e-306 1.29061142e-306]\n",
      "<class 'numpy.ndarray'>\n",
      "\n"
     ]
    }
   ],
   "source": [
    "# 2. built in function di Numpy\n",
    "\n",
    "# zeros\n",
    "arr = py.zeros(10)\n",
    "print(arr)\n",
    "print(type(arr))\n",
    "print()\n",
    "\n",
    "# ones\n",
    "arr = py.ones(13)\n",
    "print(arr)\n",
    "print(type(arr))\n",
    "print()\n",
    "\n",
    "# empty : kosong tapi ada isi, dianggap ga ada isinya\n",
    "arr = py.empty(8)\n",
    "print(arr)\n",
    "print(type(arr))\n",
    "print()"
   ]
  },
  {
   "cell_type": "code",
   "execution_count": 21,
   "metadata": {},
   "outputs": [
    {
     "name": "stdout",
     "output_type": "stream",
     "text": [
      "[0 1 2 3 4]\n",
      "<class 'numpy.ndarray'>\n",
      "\n",
      "[ 3  4  5  6  7  8  9 10 11 12 13 14 15 16 17]\n",
      "<class 'numpy.ndarray'>\n",
      "\n",
      "[ 0  2  4  6  8 10 12 14]\n",
      "<class 'numpy.ndarray'>\n",
      "\n"
     ]
    }
   ],
   "source": [
    "# arange batas atas dimulai dari 0\n",
    "arr = py.arange(5)\n",
    "print(arr)\n",
    "print(type(arr))\n",
    "print()\n",
    "\n",
    "# arange batas atas dan bawah\n",
    "arr = py.arange(3,18)\n",
    "print(arr)\n",
    "print(type(arr))\n",
    "print()\n",
    "\n",
    "# arange batas atas dan bawah dengan selisih\n",
    "arr = py.arange(0,16,2)\n",
    "print(arr)\n",
    "print(type(arr))\n",
    "print()"
   ]
  },
  {
   "cell_type": "code",
   "execution_count": 37,
   "metadata": {},
   "outputs": [
    {
     "name": "stdout",
     "output_type": "stream",
     "text": [
      "[0.57400052 0.55573609 0.23010044 0.48994824 0.5486738  0.76173181\n",
      " 0.35459342 0.59223206 0.67151512 0.62041972 0.90794675 0.67571665\n",
      " 0.45685006 0.01680228 0.67432753]\n",
      "<class 'numpy.ndarray'>\n",
      "\n"
     ]
    }
   ],
   "source": [
    "# random (jumlah bilangan)\n",
    "arr = py.random.random(15)\n",
    "print(arr)\n",
    "print(type(arr))\n",
    "print()"
   ]
  },
  {
   "cell_type": "code",
   "execution_count": 40,
   "metadata": {},
   "outputs": [
    {
     "name": "stdout",
     "output_type": "stream",
     "text": [
      "[[7 3 4]\n",
      " [2 5 1]]\n"
     ]
    }
   ],
   "source": [
    "# Numpy 2 dimensi\n",
    "arr_2 = py.array([[7,3,4],[2,5,1]])\n",
    "print(arr_2)"
   ]
  },
  {
   "cell_type": "code",
   "execution_count": 29,
   "metadata": {},
   "outputs": [
    {
     "data": {
      "text/plain": [
       "0.8759570375874175"
      ]
     },
     "execution_count": 29,
     "metadata": {},
     "output_type": "execute_result"
    }
   ],
   "source": [
    "# Read\n",
    "# membaca array <name array.[index]\n",
    "\n",
    "arr[1]\n"
   ]
  },
  {
   "cell_type": "code",
   "execution_count": 41,
   "metadata": {},
   "outputs": [
    {
     "name": "stdout",
     "output_type": "stream",
     "text": [
      "(15,)\n",
      "(2, 3)\n"
     ]
    }
   ],
   "source": [
    "print(arr.shape)\n",
    "print(arr_2.shape)"
   ]
  },
  {
   "cell_type": "code",
   "execution_count": 42,
   "metadata": {},
   "outputs": [
    {
     "name": "stdout",
     "output_type": "stream",
     "text": [
      "1\n",
      "2\n"
     ]
    }
   ],
   "source": [
    "print(arr.ndim)\n",
    "print(arr_2.ndim)"
   ]
  },
  {
   "cell_type": "code",
   "execution_count": 43,
   "metadata": {},
   "outputs": [
    {
     "name": "stdout",
     "output_type": "stream",
     "text": [
      "15\n",
      "6\n"
     ]
    }
   ],
   "source": [
    "print(arr.size)\n",
    "print(arr_2.size)"
   ]
  },
  {
   "cell_type": "code",
   "execution_count": null,
   "metadata": {},
   "outputs": [],
   "source": []
  }
 ],
 "metadata": {
  "kernelspec": {
   "display_name": "Python 3.9.12 ('base')",
   "language": "python",
   "name": "python3"
  },
  "language_info": {
   "codemirror_mode": {
    "name": "ipython",
    "version": 3
   },
   "file_extension": ".py",
   "mimetype": "text/x-python",
   "name": "python",
   "nbconvert_exporter": "python",
   "pygments_lexer": "ipython3",
   "version": "3.9.12"
  },
  "orig_nbformat": 4,
  "vscode": {
   "interpreter": {
    "hash": "a0f36b9e2c626c3bc6e5521c57e2ca0ee9ab77c6ceade95dc5e9793f3b0d83ae"
   }
  }
 },
 "nbformat": 4,
 "nbformat_minor": 2
}
