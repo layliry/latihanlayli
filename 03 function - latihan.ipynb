{
 "cells": [
  {
   "cell_type": "code",
   "execution_count": 1,
   "metadata": {},
   "outputs": [],
   "source": [
    "# function\n",
    "# function membungkus suatu alur kode untuk dipanggil kembali. sehingga kode tidak perlu dituliskan lagi\n",
    "\n",
    "# fungsi menghitung siswa lulus def siswalulus()\n",
    "\n",
    "def siswalulus():\n",
    "\n",
    "    kelas = [\"lulus\",\"lulus\",\"lulus\",\"lulus\",\"lulus\",\"tidak lulus\",\"lulus\",\"lulus\",\"tidak lulus\",\"tidak lulus\",\"lulus\",\"lulus\"]\n",
    "\n",
    "    # berapa siswa lulus?\n",
    "\n",
    "    # i adalah no. urut item\n",
    "    i = 0\n",
    "    n = 0\n",
    "\n",
    "    # untuk setiap i apabila lebih kecil dari jumlah item kelas\n",
    "    while i < len(kelas) :\n",
    "        # item harus didefinisikan dulu\n",
    "        item = kelas[i]\n",
    "        if (item == \"lulus\") :\n",
    "            n=n+1  \n",
    "            print(i,item)         \n",
    "        i=i+1\n",
    "    \n",
    "    print(\"siswa lulus :\",n)"
   ]
  },
  {
   "cell_type": "code",
   "execution_count": 2,
   "metadata": {},
   "outputs": [
    {
     "name": "stdout",
     "output_type": "stream",
     "text": [
      "0 lulus\n",
      "1 lulus\n",
      "2 lulus\n",
      "3 lulus\n",
      "4 lulus\n",
      "6 lulus\n",
      "7 lulus\n",
      "10 lulus\n",
      "11 lulus\n",
      "siswa lulus : 9\n"
     ]
    }
   ],
   "source": [
    "# panggil fungsi kembali\n",
    "siswalulus()"
   ]
  },
  {
   "cell_type": "code",
   "execution_count": 3,
   "metadata": {},
   "outputs": [],
   "source": [
    "# misal jumlah siswa lulus berbeda-beda\n",
    "# fungsi bergantung pada variabel kelas\n",
    "\n",
    "# tulis kelas di luar fungsi\n",
    "def siswalulus(kelas):\n",
    "\n",
    "    # kelas akan didefinisikan saat fungsi dipanggil\n",
    "    # berapa siswa lulus?\n",
    "\n",
    "    # i adalah no. urut item\n",
    "    i = 0\n",
    "    n = 0\n",
    "\n",
    "    # untuk setiap i apabila lebih kecil dari jumlah item kelas\n",
    "    while i < len(kelas) :\n",
    "        # item harus didefinisikan dulu\n",
    "        item = kelas[i]\n",
    "        if (item == \"lulus\") :\n",
    "            n=n+1  \n",
    "            print(i,item)         \n",
    "        i=i+1\n",
    "    \n",
    "    print(\"siswa lulus :\",n)\n",
    "\n"
   ]
  },
  {
   "cell_type": "code",
   "execution_count": 4,
   "metadata": {},
   "outputs": [
    {
     "name": "stdout",
     "output_type": "stream",
     "text": [
      "1 lulus\n",
      "2 lulus\n",
      "4 lulus\n",
      "6 lulus\n",
      "7 lulus\n",
      "8 lulus\n",
      "10 lulus\n",
      "11 lulus\n",
      "siswa lulus : 8\n",
      "0 lulus\n",
      "1 lulus\n",
      "5 lulus\n",
      "6 lulus\n",
      "8 lulus\n",
      "9 lulus\n",
      "siswa lulus : 6\n"
     ]
    }
   ],
   "source": [
    "# panggil dengan variabel kelas\n",
    "siswalulus([\"tidak lulus\",\"lulus\",\"lulus\",\"tidak lulus\",\"lulus\",\"tidak lulus\",\"lulus\",\"lulus\",\"lulus\",\"tidak lulus\",\"lulus\",\"lulus\"])\n",
    "\n",
    "siswalulus([\"lulus\",\"lulus\",\"tidak lulus\",\"tidak lulus\",\"tidak lulus\",\"lulus\",\"lulus\",\"tidak lulus\",\"lulus\",\"lulus\"])"
   ]
  },
  {
   "cell_type": "code",
   "execution_count": 5,
   "metadata": {},
   "outputs": [],
   "source": [
    "# misal jumlah siswa lulus berbeda-beda\n",
    "# misal yang mau dihitung siswa lulus atau tidak lulus\n",
    "# fungsi bergantung pada variabel kelas dan jenis string yang dihitung\n",
    "\n",
    "# tulis kelas di luar fungsi\n",
    "def siswa(kelas, kelulusan):\n",
    "\n",
    "    # kelas akan didefinisikan saat fungsi dipanggil\n",
    "    # lulus atau tidak lulus yang akan dihitung ditentukan saat fungsi dipanggil\n",
    "\n",
    "    # i adalah no. urut item\n",
    "    i = 0\n",
    "    n = 0\n",
    "\n",
    "    # untuk setiap i apabila lebih kecil dari jumlah item kelas\n",
    "    while i < len(kelas) :\n",
    "        # item harus didefinisikan dulu\n",
    "        item = kelas[i]\n",
    "        if (item.lower() == kelulusan.lower()) :\n",
    "            n=n+1  \n",
    "            print(i,item)         \n",
    "        i=i+1\n",
    "    \n",
    "    print(\"siswa \", kelulusan, \" :\", n)"
   ]
  },
  {
   "cell_type": "code",
   "execution_count": 16,
   "metadata": {},
   "outputs": [
    {
     "name": "stdout",
     "output_type": "stream",
     "text": [
      "0 tidak lulus\n",
      "3 tidak lulus\n",
      "5 tidak lulus\n",
      "9 tidak lulus\n",
      "siswa  tidak lulus  : 4\n",
      "1 lulus\n",
      "3 lulus\n",
      "5 lulus\n",
      "6 lulus\n",
      "7 lulus\n",
      "8 lulus\n",
      "siswa  lulus  : 6\n"
     ]
    }
   ],
   "source": [
    "# hitung siswa tidak lulus\n",
    "\n",
    "siswa([\"tidak lulus\",\"lulus\",\"lulus\",\"tidak lulus\",\"lulus\",\"tidak lulus\",\"lulus\",\"lulus\",\"lulus\",\"tidak lulus\",\"lulus\",\"lulus\"], \"tidak lulus\")\n",
    "\n",
    "# hitung siswa lulus\n",
    "siswa([\"tidak lulus\",\"lulus\",\"tidak lulus\",\"lulus\",\"tidak lulus\",\"lulus\",\"lulus\",\"lulus\",\"lulus\"], \"lulus\")\n"
   ]
  },
  {
   "cell_type": "code",
   "execution_count": 6,
   "metadata": {},
   "outputs": [
    {
     "name": "stdout",
     "output_type": "stream",
     "text": [
      "1 lulus\n",
      "3 lulus\n",
      "5 lulus\n",
      "6 lulus\n",
      "7 lulus\n",
      "8 lulus\n",
      "siswa  lulus  : 6\n"
     ]
    }
   ],
   "source": [
    "kelasa =[\"tidak lulus\",\"lulus\",\"lulus\",\"tidak lulus\",\"lulus\",\"tidak lulus\",\"lulus\",\"lulus\",\"lulus\",\"tidak lulus\",\"lulus\",\"lulus\"]\n",
    "\n",
    "kelasb =[\"tidak lulus\",\"lulus\",\"tidak lulus\",\"lulus\",\"tidak lulus\",\"lulus\",\"lulus\",\"lulus\",\"lulus\"]\n",
    "\n",
    "# misal kelas sudah didefinisikan terlebih dahulu, maka panggil masing-masing kelas yang akan dihitung kelululsannya\n",
    "\n",
    "# menghitung kelulusan kelasb\n",
    "siswa(kelasb, \"lulus\")\n"
   ]
  },
  {
   "cell_type": "code",
   "execution_count": 7,
   "metadata": {},
   "outputs": [
    {
     "name": "stdout",
     "output_type": "stream",
     "text": [
      "['matematika', 'geografi', 'sosiologi', 'agama']\n"
     ]
    }
   ],
   "source": [
    "# menambahkan konten pada jenis data list, tuple dan dictionary\n",
    "\n",
    "# misal sebuah list berikut\n",
    "\n",
    "jadwal = [\"matematika\", \"geografi\", \"sosiologi\"]\n",
    "\n",
    "# akan ditambahkan \"agama\" pada list jadwal\n",
    "\n",
    "copy_jadwal = jadwal\n",
    "\n",
    "# copy jadwal merupakan variabel pembantu untuk menambahkan data pada list jadwal\n",
    "\n",
    "copy_jadwal.append(\"agama\")\n",
    "\n",
    "print(jadwal)"
   ]
  },
  {
   "cell_type": "code",
   "execution_count": 8,
   "metadata": {},
   "outputs": [],
   "source": [
    "# fungsi pengubah parameter data\n",
    "# misal fungsi mengubah parameter string\n",
    "\n",
    "def capitalize(listofword) :\n",
    "    i = 0\n",
    "\n",
    "    while i < len(listofword) :\n",
    "        listofword[i] = listofword[i].upper()\n",
    "        i=i+1\n",
    "    print(listofword)\n"
   ]
  },
  {
   "cell_type": "code",
   "execution_count": 9,
   "metadata": {},
   "outputs": [
    {
     "name": "stdout",
     "output_type": "stream",
     "text": [
      "['MATEMATIKA', 'GEOGRAFI', 'SOSIOLOGI', 'AGAMA']\n"
     ]
    }
   ],
   "source": [
    "capitalize(jadwal)"
   ]
  },
  {
   "cell_type": "code",
   "execution_count": 10,
   "metadata": {},
   "outputs": [
    {
     "name": "stdout",
     "output_type": "stream",
     "text": [
      "['MATEMATIKA', 'GEOGRAFI', 'SOSIOLOGI', 'AGAMA']\n"
     ]
    }
   ],
   "source": [
    "# print jadwal\n",
    "print(jadwal)"
   ]
  },
  {
   "cell_type": "code",
   "execution_count": 11,
   "metadata": {},
   "outputs": [],
   "source": [
    "jadwal = [\"matematika\", \"geografi\", \"sosiologi\"]"
   ]
  },
  {
   "cell_type": "code",
   "execution_count": 12,
   "metadata": {},
   "outputs": [],
   "source": [
    "# bagaimana supaya data bisa diubah namun tidak permanen?\n",
    "\n",
    "def capitalize(listofword) :\n",
    "    i = 0\n",
    "    copy_list = listofword.copy()\n",
    "    while i < len(copy_list) :\n",
    "        copy_list[i] = copy_list[i].upper()\n",
    "        i=i+1\n",
    "    print(copy_list)"
   ]
  },
  {
   "cell_type": "code",
   "execution_count": 13,
   "metadata": {},
   "outputs": [
    {
     "name": "stdout",
     "output_type": "stream",
     "text": [
      "['matematika', 'geografi', 'sosiologi']\n"
     ]
    }
   ],
   "source": [
    "print(jadwal)"
   ]
  },
  {
   "cell_type": "code",
   "execution_count": 14,
   "metadata": {},
   "outputs": [
    {
     "name": "stdout",
     "output_type": "stream",
     "text": [
      "['MATEMATIKA', 'GEOGRAFI', 'SOSIOLOGI']\n"
     ]
    }
   ],
   "source": [
    "capitalize(jadwal)"
   ]
  },
  {
   "cell_type": "code",
   "execution_count": 40,
   "metadata": {},
   "outputs": [
    {
     "name": "stdout",
     "output_type": "stream",
     "text": [
      "['MATEMATIKA', 'GEOGRAFI', 'SOSIOLOGI']\n"
     ]
    }
   ],
   "source": [
    "print(jadwal)"
   ]
  },
  {
   "cell_type": "code",
   "execution_count": 15,
   "metadata": {},
   "outputs": [],
   "source": [
    "# Default Argument\n",
    "\n",
    "# contoh required argument :\n",
    "def panggil(nama):\n",
    "    print (\"halo\", nama)\n"
   ]
  },
  {
   "cell_type": "code",
   "execution_count": 45,
   "metadata": {},
   "outputs": [
    {
     "name": "stdout",
     "output_type": "stream",
     "text": [
      "halo layli\n"
     ]
    }
   ],
   "source": [
    "# nama harus diisi ketika memanggil fungsi\n",
    "# nama yang dipanggil : layli\n",
    "\n",
    "panggil(\"layli\")"
   ]
  },
  {
   "cell_type": "code",
   "execution_count": 17,
   "metadata": {},
   "outputs": [],
   "source": [
    "# contoh default argument :\n",
    "\n",
    "def panggil(nama = \"pak/bu\"):\n",
    "    print (\"halo\", nama)"
   ]
  },
  {
   "cell_type": "code",
   "execution_count": 18,
   "metadata": {},
   "outputs": [
    {
     "name": "stdout",
     "output_type": "stream",
     "text": [
      "halo pak/bu\n",
      "halo indra\n"
     ]
    }
   ],
   "source": [
    "# dipanggil tanpa nama\n",
    "panggil()\n",
    "\n",
    "# dipanggil dengan nama\n",
    "panggil(\"indra\")"
   ]
  },
  {
   "cell_type": "code",
   "execution_count": 19,
   "metadata": {},
   "outputs": [],
   "source": [
    "# default argumen dengan 2 variabel\n",
    "\n",
    "def panggil(nama = \"pak/bu\", waktu = \"siang\"):\n",
    "    print (\"halo\", nama, \"selamat\", waktu)"
   ]
  },
  {
   "cell_type": "code",
   "execution_count": 20,
   "metadata": {},
   "outputs": [
    {
     "name": "stdout",
     "output_type": "stream",
     "text": [
      "halo pak/bu selamat siang\n",
      "halo layli selamat pagi\n",
      "halo pagi selamat layli\n"
     ]
    }
   ],
   "source": [
    "# dipanggil tanpa variabel yang diinginkan\n",
    "panggil()\n",
    "\n",
    "# dipanggil tanpa variabel yang diinginkan\n",
    "panggil(\"layli\", \"pagi\")\n",
    "\n",
    "# dipanggil tanpa variabel yang diinginkan tapi dibalik\n",
    "panggil(\"pagi\", \"layli\")"
   ]
  },
  {
   "cell_type": "code",
   "execution_count": 21,
   "metadata": {},
   "outputs": [
    {
     "name": "stdout",
     "output_type": "stream",
     "text": [
      "halo layli selamat pagi\n",
      "halo pak/bu selamat sore\n"
     ]
    }
   ],
   "source": [
    "# keyword argument : sampaikan dengan keyword supaya tidak terbalik peletakannya\n",
    "panggil(waktu=\"pagi\", nama=\"layli\")\n",
    "\n",
    "panggil(waktu=\"sore\")"
   ]
  },
  {
   "cell_type": "code",
   "execution_count": 5,
   "metadata": {},
   "outputs": [],
   "source": [
    "# variable length argument\n",
    "\n",
    "def panggil(tempat, waktu = \"siang\", *nama):\n",
    "\n",
    "    print(\"selamat datang di\", tempat)\n",
    "\n",
    "    for n in nama :\n",
    "        print (\"halo\", n, \"selamat\", waktu)"
   ]
  },
  {
   "cell_type": "code",
   "execution_count": 32,
   "metadata": {},
   "outputs": [
    {
     "name": "stdout",
     "output_type": "stream",
     "text": [
      "selamat datang di jakarta\n",
      "selamat datang di jakarta\n"
     ]
    }
   ],
   "source": [
    "# hanya selamat datang di tempat\n",
    "\n",
    "panggil(tempat=\"jakarta\")\n",
    "\n",
    "# atau\n",
    "\n",
    "panggil(\"jakarta\", \"sore\")"
   ]
  },
  {
   "cell_type": "code",
   "execution_count": 35,
   "metadata": {},
   "outputs": [
    {
     "name": "stdout",
     "output_type": "stream",
     "text": [
      "selamat datang di Jakarta\n",
      "halo layli selamat pagi\n",
      "halo indra selamat pagi\n",
      "halo annisa selamat pagi\n"
     ]
    }
   ],
   "source": [
    "# menyapa banyak nama\n",
    "\n",
    "panggil(\"Jakarta\", \"pagi\", \"layli\", \"indra\", \"annisa\")\n",
    "\n",
    "# tidak perlu panggil(tempat=\"Jakarta\", waktu=\"pagi\", \"layli\", \"indra\", \"annisa\") nanti error\n"
   ]
  },
  {
   "cell_type": "code",
   "execution_count": 4,
   "metadata": {},
   "outputs": [],
   "source": [
    "# Return\n",
    "# mengenmbalikan nilai fungsi apabila telah diubah menjadi suatu variabel\n",
    "\n",
    "# contoh fungsi tidak menggunakan return\n",
    "def panggil(tempat):\n",
    "\n",
    "    print(\"selamat datang di\", tempat)"
   ]
  },
  {
   "cell_type": "code",
   "execution_count": 40,
   "metadata": {},
   "outputs": [
    {
     "name": "stdout",
     "output_type": "stream",
     "text": [
      "selamat datang di kantor\n",
      "None\n"
     ]
    }
   ],
   "source": [
    "# kita ubah fungsi menjadi variabel\n",
    "\n",
    "ucapan = panggil(\"kantor\")\n",
    "\n",
    "# kita panggil\n",
    "\n",
    "print(ucapan)"
   ]
  },
  {
   "cell_type": "code",
   "execution_count": 45,
   "metadata": {},
   "outputs": [],
   "source": [
    "# contoh fungsi sesudah menggunakan return\n",
    "\n",
    "def panggil(tempat):\n",
    "\n",
    "    return \"selamat datang di\" + tempat\n",
    "    # setelah argumen return, argumen tidak akah diproses"
   ]
  },
  {
   "cell_type": "code",
   "execution_count": 49,
   "metadata": {},
   "outputs": [
    {
     "name": "stdout",
     "output_type": "stream",
     "text": [
      "selamat datang dikantor\n"
     ]
    }
   ],
   "source": [
    "# kita ubah fungsi menjadi variabel\n",
    "\n",
    "ucapan = panggil (\"kantor\")\n",
    "\n",
    "# kita panggil\n",
    "\n",
    "print(ucapan)"
   ]
  },
  {
   "cell_type": "code",
   "execution_count": 1,
   "metadata": {},
   "outputs": [
    {
     "name": "stdout",
     "output_type": "stream",
     "text": [
      "<class 'str'>\n"
     ]
    }
   ],
   "source": [
    "# mengecek tipe data\n",
    "def panggil(tempat=\"jakarta\"):\n",
    "    print(type(tempat))\n",
    "\n",
    "panggil()\n"
   ]
  },
  {
   "cell_type": "code",
   "execution_count": 9,
   "metadata": {},
   "outputs": [],
   "source": [
    "def lingkaran(r) :\n",
    "    print(22*r*r/7)\n"
   ]
  },
  {
   "cell_type": "code",
   "execution_count": 10,
   "metadata": {},
   "outputs": [
    {
     "name": "stdout",
     "output_type": "stream",
     "text": [
      "154.0\n"
     ]
    }
   ],
   "source": [
    "luas = lingkaran(7)\n",
    "\n",
    "luas"
   ]
  },
  {
   "cell_type": "code",
   "execution_count": null,
   "metadata": {},
   "outputs": [],
   "source": []
  }
 ],
 "metadata": {
  "interpreter": {
   "hash": "a0f36b9e2c626c3bc6e5521c57e2ca0ee9ab77c6ceade95dc5e9793f3b0d83ae"
  },
  "kernelspec": {
   "display_name": "Python 3.9.12 ('base')",
   "language": "python",
   "name": "python3"
  },
  "language_info": {
   "codemirror_mode": {
    "name": "ipython",
    "version": 3
   },
   "file_extension": ".py",
   "mimetype": "text/x-python",
   "name": "python",
   "nbconvert_exporter": "python",
   "pygments_lexer": "ipython3",
   "version": "3.9.12"
  },
  "orig_nbformat": 4
 },
 "nbformat": 4,
 "nbformat_minor": 2
}
