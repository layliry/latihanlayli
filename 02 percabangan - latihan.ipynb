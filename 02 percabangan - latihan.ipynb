{
 "cells": [
  {
   "cell_type": "code",
   "execution_count": 2,
   "metadata": {},
   "outputs": [],
   "source": [
    "# percabangan\n",
    "\n"
   ]
  },
  {
   "cell_type": "code",
   "execution_count": 4,
   "metadata": {},
   "outputs": [
    {
     "name": "stdout",
     "output_type": "stream",
     "text": [
      "lulus\n"
     ]
    }
   ],
   "source": [
    "# if\n",
    "\n",
    "nilai = 87\n",
    "\n",
    "kondisi = nilai > 50\n",
    "\n",
    "if kondisi:\n",
    "    # apabila nilai sesuai kondisi maka aksi :\n",
    "    print (\"lulus\")\n",
    "\n",
    "    # apabila nilai tidak sesuai kondisi maka tidak muncul apapun"
   ]
  },
  {
   "cell_type": "code",
   "execution_count": 6,
   "metadata": {},
   "outputs": [],
   "source": [
    "# if dengan tidak didefinisikan variabel kondisinya\n",
    "\n",
    "nilai = 37\n",
    "\n",
    "nilai > 50\n",
    "\n",
    "if nilai > 50:\n",
    "    # apabila nilai sesuai kondisi maka aksi :\n",
    "    print (\"lulus\")\n",
    "\n",
    "    # apabila nilai tidak sesuai kondisi maka tidak muncul apapun"
   ]
  },
  {
   "cell_type": "code",
   "execution_count": 1,
   "metadata": {},
   "outputs": [
    {
     "name": "stdout",
     "output_type": "stream",
     "text": [
      "tidak lulus\n"
     ]
    }
   ],
   "source": [
    "# if else\n",
    "# untuk 2 kondisi\n",
    "\n",
    "nilai = 37\n",
    "\n",
    "nilai > 50\n",
    "\n",
    "if nilai > 50:\n",
    "    # apabila nilai sesuai kondisi maka aksi :\n",
    "    print (\"lulus\")\n",
    "else:\n",
    "    # apabila nilai tidak sesuai kondisi maka aksi :\n",
    "    print (\"tidak lulus\")"
   ]
  },
  {
   "cell_type": "code",
   "execution_count": 2,
   "metadata": {},
   "outputs": [
    {
     "name": "stdout",
     "output_type": "stream",
     "text": [
      "ikut ujian perbaikan\n"
     ]
    }
   ],
   "source": [
    "# elif\n",
    "# 3 atau lebih kondisi dari 1 variabel yang sama\n",
    "\n",
    "nilai = 50\n",
    "\n",
    "nilai > 50\n",
    "\n",
    "if nilai > 50:\n",
    "    # apabila nilai sesuai kondisi maka aksi :\n",
    "    print (\"lulus\")\n",
    "elif nilai == 50:\n",
    "    # apabila nilai tidak sesuai kondisi namun memenuhi kondisi 2 maka aksi :\n",
    "    print (\"ikut ujian perbaikan\")\n",
    "else:\n",
    "    # apabila nilai tidak sesuai kedua kondisi maka aksi :\n",
    "    print (\"tidak lulus\")"
   ]
  },
  {
   "cell_type": "code",
   "execution_count": 5,
   "metadata": {},
   "outputs": [
    {
     "name": "stdout",
     "output_type": "stream",
     "text": [
      "tidak lulus\n"
     ]
    }
   ],
   "source": [
    "# nested if\n",
    "# kondisi di dalam kondisi\n",
    "\n",
    "nilai = 45\n",
    "\n",
    "nilai > 50\n",
    "\n",
    "if nilai > 50:\n",
    "    # apabila nilai sesuai kondisi maka aksi :\n",
    "    print (\"lulus\")\n",
    "else:\n",
    "    # apabila nilai tidak sesuai kedua kondisi maka aksi :\n",
    "    if nilai == 50:\n",
    "       print (\"ikut ujian perbaikan\")\n",
    "    else:\n",
    "             print (\"tidak lulus\")"
   ]
  },
  {
   "cell_type": "code",
   "execution_count": 21,
   "metadata": {},
   "outputs": [
    {
     "name": "stdout",
     "output_type": "stream",
     "text": [
      "ikut kelas tambahan\n"
     ]
    }
   ],
   "source": [
    "# nested if\n",
    "# melibatkan 2 varriabel kondisi\n",
    "\n",
    "# syarat lulus : nilai > 50 dan absen > 10\n",
    "# ikut kelas tambahan : nilai > 50 dan absen <= 10\n",
    "# ujian ulang : nilai <= 50 dan absen > 10\n",
    "# tidak lulus : nilai <= 50 dan absen <= 10\n",
    "\n",
    "nilai = 51\n",
    "absen = 8\n",
    "\n",
    "if nilai > 50:\n",
    "    if absen > 10:\n",
    "        # lulus : nilai > 50 dan absen > 10\n",
    "        print (\"lulus\")\n",
    "    else:\n",
    "        # ikut kelas tambahan : nilai > 50 dan absen <= 10\n",
    "        print (\"ikut kelas tambahan\")\n",
    "else:\n",
    "    if absen > 10:\n",
    "        # ujian ulang : nilai <= 50 dan absen > 10\n",
    "        print (\"ujian ulang\")\n",
    "    else:\n",
    "        # tidak lulus : nilai <= 50 dan absen <= 10\n",
    "        print (\"tidak lulus\")"
   ]
  },
  {
   "cell_type": "code",
   "execution_count": 24,
   "metadata": {},
   "outputs": [
    {
     "name": "stdout",
     "output_type": "stream",
     "text": [
      "ikut kelas tambahan\n"
     ]
    }
   ],
   "source": [
    "# nested if\n",
    "# aplikasi variabel message\n",
    "\n",
    "# syarat lulus : nilai > 50 dan absen > 10\n",
    "# ikut kelas tambahan : nilai > 50 dan absen <= 10\n",
    "# ujian ulang : nilai <= 50 dan absen > 10\n",
    "# tidak lulus : nilai <= 50 dan absen <= 10\n",
    "\n",
    "nilai = 51\n",
    "absen = 8\n",
    "\n",
    "message = \"\"\n",
    "\n",
    "if nilai > 50:\n",
    "    if absen > 10:\n",
    "        # lulus : nilai > 50 dan absen > 10\n",
    "        message = \"lulus\"\n",
    "    else:\n",
    "        # ikut kelas tambahan : nilai > 50 dan absen <= 10\n",
    "         message = \"ikut kelas tambahan\"\n",
    "else:\n",
    "    if absen > 10:\n",
    "        # ujian ulang : nilai <= 50 dan absen > 10\n",
    "         message = \"ujian ulang\"\n",
    "    else:\n",
    "        # tidak lulus : nilai <= 50 dan absen <= 10\n",
    "         message = \"tidak lulus\"\n",
    "\n",
    "print(message)"
   ]
  },
  {
   "cell_type": "code",
   "execution_count": 28,
   "metadata": {},
   "outputs": [
    {
     "name": "stdout",
     "output_type": "stream",
     "text": [
      "tidak lulus\n"
     ]
    }
   ],
   "source": [
    "# ternary operator\n",
    "# penulisan kondisi dengan 1 baris\n",
    "\n",
    "nilai=50\n",
    "\n",
    "print(\"lulus\") if nilai>50 else print(\"tidak lulus\")\n",
    "\n"
   ]
  },
  {
   "cell_type": "code",
   "execution_count": 38,
   "metadata": {},
   "outputs": [
    {
     "name": "stdout",
     "output_type": "stream",
     "text": [
      "lulus\n"
     ]
    }
   ],
   "source": [
    "nilai = 60\n",
    "absen = 7\n",
    "\n",
    "print(\"lulus\") if nilai>50 else print(\"ujian susulan\") if absen>10 else print(\"tidak lulus\")\n",
    "\n",
    "# not recomended"
   ]
  },
  {
   "cell_type": "code",
   "execution_count": 40,
   "metadata": {},
   "outputs": [
    {
     "name": "stdout",
     "output_type": "stream",
     "text": [
      "\n"
     ]
    }
   ],
   "source": [
    "# pass statement\n",
    "# supaya ga error karena blm ada kondisi\n",
    "\n",
    "nilai = 51\n",
    "absen = 8\n",
    "\n",
    "message = \"\"\n",
    "\n",
    "if nilai > 50:\n",
    "    if absen > 10:\n",
    "        # lulus : nilai > 50 dan absen > 10\n",
    "        message = \"lulus\"\n",
    "    else:\n",
    "        # pass\n",
    "         pass\n",
    "else:\n",
    "    if absen > 10:\n",
    "        # ujian ulang : nilai <= 50 dan absen > 10\n",
    "         message = \"ujian ulang\"\n",
    "    else:\n",
    "        # tidak lulus : nilai <= 50 dan absen <= 10\n",
    "         message = \"tidak lulus\"\n",
    "\n",
    "print(message)"
   ]
  },
  {
   "cell_type": "code",
   "execution_count": 58,
   "metadata": {},
   "outputs": [
    {
     "name": "stdout",
     "output_type": "stream",
     "text": [
      "1 lulus\n",
      "2 lulus\n",
      "3 lulus\n",
      "4 lulus\n",
      "5 lulus\n",
      "6 lulus\n",
      "7 lulus\n",
      "8 lulus\n",
      "9 lulus\n",
      "siswa lulus : 9\n"
     ]
    }
   ],
   "source": [
    "# For Loops\n",
    "\n",
    "kelas = [\"lulus\",\"lulus\",\"lulus\",\"lulus\",\"lulus\",\"tidak lulus\",\"lulus\",\"lulus\",\"tidak lulus\",\"tidak lulus\",\"lulus\",\"lulus\"]\n",
    "\n",
    "# berapa siswa lulus?\n",
    "\n",
    "n = 0\n",
    "\n",
    "# untuk setiap item di dalam kelasA\n",
    "for item in kelas:\n",
    "    if (item == \"lulus\") :\n",
    "        n=n+1\n",
    "        print(n,item) \n",
    "\n",
    "print(\"siswa lulus :\",n)\n"
   ]
  },
  {
   "cell_type": "code",
   "execution_count": 59,
   "metadata": {},
   "outputs": [
    {
     "name": "stdout",
     "output_type": "stream",
     "text": [
      "0\n",
      "1\n",
      "2\n",
      "3\n",
      "4\n"
     ]
    }
   ],
   "source": [
    "# looping range\n",
    "# positive integer < dari batas\n",
    "\n",
    "for i in range(5) :\n",
    "    print (i)"
   ]
  },
  {
   "cell_type": "code",
   "execution_count": 64,
   "metadata": {},
   "outputs": [
    {
     "name": "stdout",
     "output_type": "stream",
     "text": [
      "-2\n",
      "-1\n",
      "0\n",
      "1\n",
      "2\n",
      "3\n",
      "4\n",
      "5\n",
      "6\n",
      "7\n",
      "8\n"
     ]
    }
   ],
   "source": [
    "# while loops\n",
    "# mirip if\n",
    "# biasanya untuk menghitung \n",
    "\n",
    "n = -3\n",
    "\n",
    "while n<8 :\n",
    "    n = n+1\n",
    "    print(n)\n",
    "\n"
   ]
  },
  {
   "cell_type": "code",
   "execution_count": 103,
   "metadata": {},
   "outputs": [
    {
     "name": "stdout",
     "output_type": "stream",
     "text": [
      "0 lulus\n",
      "1 lulus\n",
      "2 lulus\n",
      "3 lulus\n",
      "4 lulus\n",
      "6 lulus\n",
      "7 lulus\n",
      "10 lulus\n",
      "11 lulus\n",
      "siswa lulus : 9\n"
     ]
    }
   ],
   "source": [
    "# menghitung item dengan while\n",
    "# gunakan fungsi len() untuk jumlah anggota pada dict\n",
    "\n",
    "kelas = [\"lulus\",\"lulus\",\"lulus\",\"lulus\",\"lulus\",\"tidak lulus\",\"lulus\",\"lulus\",\"tidak lulus\",\"tidak lulus\",\"lulus\",\"lulus\"]\n",
    "\n",
    "# berapa siswa lulus?\n",
    "\n",
    "# i adalah no. urut item\n",
    "i = 0\n",
    "n = 0\n",
    "\n",
    "# untuk setiap i apabila lebih kecil dari jumlah item kelas\n",
    "while i < len(kelas) :\n",
    "    # item harus didefinisikan dulu\n",
    "    item = kelas[i]\n",
    "    if (item == \"lulus\") :\n",
    "        n=n+1  \n",
    "        print(i,item)         \n",
    "    i=i+1\n",
    " \n",
    "print(\"siswa lulus :\",n)"
   ]
  },
  {
   "cell_type": "code",
   "execution_count": 156,
   "metadata": {},
   "outputs": [
    {
     "name": "stdout",
     "output_type": "stream",
     "text": [
      "0 l\n",
      "1 a\n",
      "2 y\n",
      "3 l\n",
      "4 i\n",
      "5 r\n",
      "6 a\n",
      "7 h\n",
      "8 m\n",
      "9 a\n",
      "10 n\n",
      "11 i\n",
      "12 a\n",
      "13 y\n",
      "14 u\n",
      "15 w\n",
      "16 o\n",
      "17 n\n",
      "18 o\n",
      "jumlah karakter = 19\n"
     ]
    }
   ],
   "source": [
    "# while loop untuk menghitung karakter pada string\n",
    "\n",
    "i = 0\n",
    "text = \"laylirahmaniayuwono\"\n",
    "while i < len(text) :\n",
    "    print(i,text[i])\n",
    "    i=i+1\n",
    "    \n",
    "\n",
    "print(\"jumlah karakter =\", i)"
   ]
  },
  {
   "cell_type": "code",
   "execution_count": 116,
   "metadata": {},
   "outputs": [
    {
     "name": "stdout",
     "output_type": "stream",
     "text": [
      "1\n",
      "2\n",
      "3\n",
      "4\n",
      "5\n",
      "6\n",
      "7\n",
      "8\n",
      "9\n",
      "10\n"
     ]
    }
   ],
   "source": [
    "# menlist integer dengan range terterntu\n",
    "\n",
    "# bilangan integer 1 - 10\n",
    "\n",
    "for i in range(1,11):\n",
    "    print(i)"
   ]
  },
  {
   "cell_type": "code",
   "execution_count": 118,
   "metadata": {},
   "outputs": [
    {
     "name": "stdout",
     "output_type": "stream",
     "text": [
      "1\n",
      "3\n",
      "5\n",
      "7\n",
      "9\n"
     ]
    }
   ],
   "source": [
    "# menlist integer dengan range terterntu dan selisih terterntu\n",
    "\n",
    "# bilangan integer 1 - 20\n",
    "# selisih 2\n",
    "\n",
    "for i in range(1,11,2):\n",
    "    print(i)"
   ]
  },
  {
   "cell_type": "code",
   "execution_count": 120,
   "metadata": {},
   "outputs": [
    {
     "name": "stdout",
     "output_type": "stream",
     "text": [
      "20\n",
      "18\n",
      "16\n",
      "14\n",
      "12\n",
      "10\n",
      "8\n",
      "6\n",
      "4\n",
      "2\n"
     ]
    }
   ],
   "source": [
    "# menlist integer dengan range terterntu dan selisih terterntu\n",
    "\n",
    "# hitung mundur\n",
    "\n",
    "# bilangan integer 20 - 1\n",
    "# selisih 2\n",
    "\n",
    "for i in range(20,0,-2):\n",
    "    print(i)"
   ]
  },
  {
   "cell_type": "code",
   "execution_count": 123,
   "metadata": {},
   "outputs": [
    {
     "name": "stdout",
     "output_type": "stream",
     "text": [
      "Adi\n",
      "Bunga\n",
      "Cika\n",
      "Daffa\n",
      "Ena\n"
     ]
    }
   ],
   "source": [
    "# print dict dengan kondisi tertentu\n",
    "\n",
    "nilaimtk = {\n",
    "    \"Adi\" : 87,\n",
    "    \"Bunga\" : 79,\n",
    "    \"Cika\" : 84,\n",
    "    \"Daffa\" : 88,\n",
    "    \"Ena\" : 90,\n",
    "}\n",
    "\n",
    "# menampilkan nama siswa\n",
    "for key in nilaimtk :\n",
    "    print(key)\n"
   ]
  },
  {
   "cell_type": "code",
   "execution_count": 126,
   "metadata": {},
   "outputs": [
    {
     "name": "stdout",
     "output_type": "stream",
     "text": [
      "Adi : 87\n",
      "Bunga : 79\n",
      "Cika : 84\n",
      "Daffa : 88\n",
      "Ena : 90\n"
     ]
    }
   ],
   "source": [
    "# print dict dengan kondisi tertentu\n",
    "\n",
    "nilaimtk = {\n",
    "    \"Adi\" : 87,\n",
    "    \"Bunga\" : 79,\n",
    "    \"Cika\" : 84,\n",
    "    \"Daffa\" : 88,\n",
    "    \"Ena\" : 90,\n",
    "}\n",
    "\n",
    "# menampilkan nama siswa dan nilai\n",
    "for key in nilaimtk :\n",
    "    print(key,\":\",nilaimtk[key])"
   ]
  },
  {
   "cell_type": "code",
   "execution_count": 147,
   "metadata": {},
   "outputs": [
    {
     "name": "stdout",
     "output_type": "stream",
     "text": [
      "Siswa yang berhasil mendapat nilai di atas rata-rata :\n",
      "Adi : 87\n",
      "Daffa : 88\n",
      "Ena : 90\n"
     ]
    }
   ],
   "source": [
    "# print dict dengan kondisi tertentu\n",
    "\n",
    "nilaimtk = {\n",
    "    \"Adi\" : 87,\n",
    "    \"Bunga\" : 79,\n",
    "    \"Cika\" : 84,\n",
    "    \"Daffa\" : 88,\n",
    "    \"Ena\" : 90,\n",
    "}\n",
    "\n",
    "min = 85\n",
    "\n",
    "print(\"Siswa yang berhasil mendapat nilai di atas rata-rata :\")\n",
    "\n",
    "# menampilkan nama siswa dan nilai yang memenuhi kondisi\n",
    "for item in nilaimtk.items() :\n",
    "    if item[1] > min:\n",
    "        print(item[0],\":\",item[1])\n",
    "    else :\n",
    "        pass"
   ]
  },
  {
   "cell_type": "code",
   "execution_count": 178,
   "metadata": {},
   "outputs": [
    {
     "name": "stdout",
     "output_type": "stream",
     "text": [
      "1 84\n",
      "2 85\n",
      "3 82\n",
      "4 93\n",
      "5 94\n",
      "6 95\n",
      "7 75\n",
      "8 88\n",
      "8\n"
     ]
    }
   ],
   "source": [
    "# Break dan Continue\n",
    "\n",
    "# Break : menghentikan loop secara paksa\n",
    "\n",
    "nilai = [84,85,82,93,94,95,75,88,73,78,83,85,86,87,89,75,77]\n",
    "\n",
    "n = 0\n",
    "\n",
    "# untuk setiap item di dalam nilai\n",
    "for item in nilai:\n",
    "    if (item>=75) :\n",
    "        n=n+1\n",
    "        print(n,item)\n",
    "    # berhenti apabila ada yang nilainya di bawah 75\n",
    "    elif (item<75):\n",
    "        break\n",
    "\n",
    "\n",
    "print(n)\n",
    "\n",
    "# ok"
   ]
  }
 ],
 "metadata": {
  "interpreter": {
   "hash": "f08154012ddadd8e950e6e9e035c7a7b32c136e7647e9b7c77e02eb723a8bedb"
  },
  "kernelspec": {
   "display_name": "Python 3.9.12 ('base')",
   "language": "python",
   "name": "python3"
  },
  "language_info": {
   "codemirror_mode": {
    "name": "ipython",
    "version": 3
   },
   "file_extension": ".py",
   "mimetype": "text/x-python",
   "name": "python",
   "nbconvert_exporter": "python",
   "pygments_lexer": "ipython3",
   "version": "3.9.12"
  },
  "orig_nbformat": 4
 },
 "nbformat": 4,
 "nbformat_minor": 2
}
